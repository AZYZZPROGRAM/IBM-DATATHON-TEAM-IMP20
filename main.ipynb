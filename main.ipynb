{
 "cells": [
  {
   "cell_type": "markdown",
   "id": "dc787de6-fbec-48ac-b115-ac44ecf0dc70",
   "metadata": {},
   "source": [
    "# IBM DATATHON PROGRAM TEAM IMP20\n",
    "\n",
    "\n",
    "This is our Program for the IBM DATATHON PROGRAM where we are creating a crowd density tracker for public transport.\n"
   ]
  },
  {
   "cell_type": "code",
   "execution_count": 1,
   "id": "9ab8576f-c204-4f0e-acc0-04da101e4f2b",
   "metadata": {},
   "outputs": [],
   "source": [
    "import pandas as pd \n",
    "import numpy as np\n",
    "import random\n",
    "\n",
    "import csv\n",
    "import re\n"
   ]
  },
  {
   "cell_type": "code",
   "execution_count": 2,
   "id": "d1da0896-09f5-4f99-a5fa-7a7daa8dca58",
   "metadata": {},
   "outputs": [],
   "source": [
    "stations = [\"Banbury\", \"Oxford\", \"Reading\", \"Maidenhead\", \"Slough\", \"London\"]\n",
    "    "
   ]
  },
  {
   "cell_type": "code",
   "execution_count": 3,
   "id": "09b88425-f3a7-4c71-9c18-45491131aac5",
   "metadata": {},
   "outputs": [
    {
     "name": "stdout",
     "output_type": "stream",
     "text": [
      "Index(['city', 'lat', 'lng', 'country', 'iso2', 'admin_name', 'capital',\n",
      "       'population', 'population_proper'],\n",
      "      dtype='object')\n"
     ]
    }
   ],
   "source": [
    "cities = pd.read_csv('gb.csv')\n",
    "print(cities.columns)\n"
   ]
  },
  {
   "cell_type": "code",
   "execution_count": 4,
   "id": "383e7212-4434-4ded-9b91-269043784af7",
   "metadata": {},
   "outputs": [
    {
     "name": "stdin",
     "output_type": "stream",
     "text": [
      "Enter initial station (Banbury, Oxford, Reading, Maidenhead, Slough, London):  London\n"
     ]
    },
    {
     "name": "stdout",
     "output_type": "stream",
     "text": [
      "You selected: London\n"
     ]
    }
   ],
   "source": [
    "initial = \"\"\n",
    "\n",
    "# Keep asking for input until a valid station is entered\n",
    "while initial not in stations:\n",
    "    initial = input(\"Enter initial station (Banbury, Oxford, Reading, Maidenhead, Slough, London): \")\n",
    "    if initial not in stations:\n",
    "        print(\"Invalid station. Please enter one of the valid stations.\")\n",
    "\n",
    "# If the loop exits, the input is valid\n",
    "print(f\"You selected: {initial}\")"
   ]
  },
  {
   "cell_type": "code",
   "execution_count": 5,
   "id": "20b6a4ae-10e1-4a24-90bf-a720db603a5b",
   "metadata": {},
   "outputs": [
    {
     "name": "stdin",
     "output_type": "stream",
     "text": [
      "Enter destination station (Banbury, Oxford, Reading, Maidenhead, Slough, London):  Banbury\n"
     ]
    },
    {
     "name": "stdout",
     "output_type": "stream",
     "text": [
      "You selected: Banbury\n"
     ]
    }
   ],
   "source": [
    "destination = \"\"\n",
    "\n",
    "# Keep asking for input until a valid station is entered\n",
    "while destination not in stations:\n",
    "    destination = input(\"Enter destination station (Banbury, Oxford, Reading, Maidenhead, Slough, London): \")\n",
    "    if destination not in stations:\n",
    "        print(\"Invalid station. Please enter one of the valid stations.\")\n",
    "\n",
    "# If the loop exits, the input is valid\n",
    "print(f\"You selected: {destination}\")"
   ]
  },
  {
   "cell_type": "code",
   "execution_count": 6,
   "id": "58a75012-d14c-44c0-ad10-aeb15d5eb4ee",
   "metadata": {},
   "outputs": [
    {
     "name": "stdin",
     "output_type": "stream",
     "text": [
      "Please enter the time in this format, (XX:00):  12:00\n"
     ]
    },
    {
     "name": "stdout",
     "output_type": "stream",
     "text": [
      "You entered: 12:00\n"
     ]
    }
   ],
   "source": [
    "\n",
    "def get_hour_input():\n",
    "    while True:\n",
    "        user_input = input(\"Please enter the time in this format, (XX:00): \")\n",
    "        # Check if the input matches the pattern \"XX:00\"\n",
    "        if re.match(r'^[0-1][0-9]:00$|^2[0-3]:00$', user_input):\n",
    "            return user_input\n",
    "        else:\n",
    "            print(\"Invalid input. Please enter the time in the format 'XX:00'.\")\n",
    "\n",
    "# Get valid time input from the user\n",
    "time = get_hour_input()\n",
    "print(f\"You entered: {time}\")"
   ]
  },
  {
   "cell_type": "code",
   "execution_count": 7,
   "id": "e067c241-5eea-4b92-b294-fab6998e012b",
   "metadata": {},
   "outputs": [
    {
     "name": "stdout",
     "output_type": "stream",
     "text": [
      "Decimal Time: 12.0\n"
     ]
    }
   ],
   "source": [
    "def time_to_decimal(time_str):\n",
    "    # Split the time string into hours and minutes\n",
    "    hours, minutes = map(int, time_str.split(':'))\n",
    "    \n",
    "    # Calculate decimal hours\n",
    "    decimal_hours = hours + minutes / 60.0\n",
    "    \n",
    "    return decimal_hours\n",
    "\n",
    "time_decimal = time_to_decimal(time)\n",
    "print(f\"Decimal Time: {time_decimal}\")"
   ]
  },
  {
   "cell_type": "code",
   "execution_count": 8,
   "id": "8e4c4bc4-69fe-4411-8a40-c53bd85d612c",
   "metadata": {},
   "outputs": [
    {
     "name": "stdout",
     "output_type": "stream",
     "text": [
      "60 50\n"
     ]
    }
   ],
   "source": [
    "if 7 <= time_decimal and time_decimal <= 9:\n",
    "    max = 100 # Maximum Number of passengers within the train. \n",
    "    min = 80 #MInimum number of passengers within the train. \n",
    "\n",
    "#The reasoning the values are higher are due to the hours being at peak hours. \n",
    "\n",
    "elif 9 < time_decimal and time_decimal < 17:\n",
    "    max = 60\n",
    "    min = 50\n",
    "\n",
    "#The reasoning the values are lower are due to the hours being at non-peak hours. \n",
    "\n",
    "elif 17<= time_decimal and time_decimal <= 19:\n",
    "    max = 100\n",
    "    min = 80\n",
    "\n",
    "#The reasoning the values are higher are due to the hours being at peak hours. \n",
    "\n",
    "else:\n",
    "    max = 20\n",
    "    min = 10 \n",
    "#The reasoning the values are at their lowest are due to super-off peak hours. \n",
    "\n",
    "print(max, min)"
   ]
  },
  {
   "cell_type": "code",
   "execution_count": 9,
   "id": "87deae35-7694-46b7-bb31-3ec614aac4fd",
   "metadata": {
    "scrolled": true
   },
   "outputs": [
    {
     "name": "stdout",
     "output_type": "stream",
     "text": [
      "0      11262000\n",
      "1       2919600\n",
      "2        855679\n",
      "3        855569\n",
      "4        729977\n",
      "         ...   \n",
      "256       24974\n",
      "257       24903\n",
      "258      232662\n",
      "259      148167\n",
      "260       46797\n",
      "Name: population, Length: 261, dtype: int64\n"
     ]
    }
   ],
   "source": [
    "print(cities[\"population\"])"
   ]
  },
  {
   "cell_type": "code",
   "execution_count": 10,
   "id": "8700ff7e-9f29-499f-a98d-f77711794851",
   "metadata": {},
   "outputs": [
    {
     "name": "stdout",
     "output_type": "stream",
     "text": [
      "           city      lat     lng         country iso2       admin_name  \\\n",
      "0        London  51.5072 -0.1275  United Kingdom   GB  London, City of   \n",
      "29       Oxford  51.7500 -1.2500  United Kingdom   GB      Oxfordshire   \n",
      "43       Slough  51.5084 -0.5881  United Kingdom   GB           Slough   \n",
      "258     Reading  51.4550 -0.9711  United Kingdom   GB        Berkshire   \n",
      "259  Maidenhead  51.5205 -0.6842  United Kingdom   GB        Berkshire   \n",
      "260     Banbury  52.0604 -1.3272  United Kingdom   GB      Oxfordshire   \n",
      "\n",
      "     capital  population  population_proper  \n",
      "0    primary    11262000            8825001  \n",
      "29       NaN      152000             152000  \n",
      "43       NaN      119070             119070  \n",
      "258      NaN      232662             232662  \n",
      "259      NaN      148167             148167  \n",
      "260      NaN       46797              46797  \n"
     ]
    }
   ],
   "source": [
    "filtered_cities = cities[cities[\"city\"].isin(stations)]\n",
    "\n",
    "print(filtered_cities)"
   ]
  },
  {
   "cell_type": "code",
   "execution_count": 11,
   "id": "37fbdfd2-4999-42f7-80cc-ca9c1dc4c3e3",
   "metadata": {},
   "outputs": [
    {
     "name": "stdout",
     "output_type": "stream",
     "text": [
      "1993449.3333333333\n"
     ]
    }
   ],
   "source": [
    "S = sum(filtered_cities[\"population\"])\n",
    "average = S / len(stations)\n",
    "print(average)\n"
   ]
  },
  {
   "cell_type": "code",
   "execution_count": 12,
   "id": "d83b8c82-57e6-4544-afd7-8c986aed800e",
   "metadata": {},
   "outputs": [
    {
     "name": "stdout",
     "output_type": "stream",
     "text": [
      "False\n"
     ]
    }
   ],
   "source": [
    "if stations.index(initial) < stations.index(destination):\n",
    "    inwards = True\n",
    "\n",
    "elif stations.index(initial) > stations.index(destination):\n",
    "    inwards = False\n",
    "\n",
    "print(inwards)"
   ]
  },
  {
   "cell_type": "code",
   "execution_count": 16,
   "id": "abac27e1-f86f-4e9c-b76a-acc4b077325a",
   "metadata": {},
   "outputs": [
    {
     "name": "stdout",
     "output_type": "stream",
     "text": [
      "0\n"
     ]
    }
   ],
   "source": [
    "passengers = 0\n",
    "if inwards:\n",
    "    for i in range(stations.index(initial)):\n",
    "        population = filtered_cities[filtered_cities[\"city\"] != stations[i]].loc[0,\"population\"]\n",
    "        passengers += round(random.randint(min,max) * (population / average))\n",
    "        passengers -= round(random.randint(0,min) * (population / average))\n",
    "else:\n",
    "    for i in range(len(stations)-1,stations.index(initial),-1):\n",
    "        population = filtered_cities[filtered_cities[\"city\"] != stations[i]].loc[0,\"population\"]\n",
    "        passengers += round(random.randint(min,max) * (population / average))\n",
    "        passengers -= round(random.randint(0,min) * (population / average))\n",
    "print(passengers)"
   ]
  },
  {
   "cell_type": "code",
   "execution_count": null,
   "id": "add69537-c4c3-48bd-a1e1-7c4278196daf",
   "metadata": {},
   "outputs": [],
   "source": []
  },
  {
   "cell_type": "code",
   "execution_count": null,
   "id": "fc8aec9e-7693-4495-a940-abf26f1dd83a",
   "metadata": {},
   "outputs": [],
   "source": []
  }
 ],
 "metadata": {
  "kernelspec": {
   "display_name": "Python 3 (ipykernel)",
   "language": "python",
   "name": "python3"
  },
  "language_info": {
   "codemirror_mode": {
    "name": "ipython",
    "version": 3
   },
   "file_extension": ".py",
   "mimetype": "text/x-python",
   "name": "python",
   "nbconvert_exporter": "python",
   "pygments_lexer": "ipython3",
   "version": "3.10.12"
  }
 },
 "nbformat": 4,
 "nbformat_minor": 5
}
